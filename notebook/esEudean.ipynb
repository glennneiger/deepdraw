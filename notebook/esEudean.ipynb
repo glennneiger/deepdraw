{
 "cells": [
  {
   "cell_type": "code",
   "execution_count": 1,
   "metadata": {
    "scrolled": false
   },
   "outputs": [],
   "source": [
    "import numpy as np\n",
    "import requests\n",
    "from elasticsearch import Elasticsearch, helpers\n",
    "import time\n",
    "es = Elasticsearch(\"192.168.2.104:9200\")\n"
   ]
  },
  {
   "cell_type": "code",
   "execution_count": 130,
   "metadata": {},
   "outputs": [
    {
     "name": "stdout",
     "output_type": "stream",
     "text": [
      "/home/test/下载/vectors/myfeature_0.npy\n",
      "/home/test/下载/vectors/myfeature_1.npy\n",
      "/home/test/下载/vectors/myfeature_2.npy\n",
      "/home/test/下载/vectors/myfeature_3.npy\n",
      "/home/test/下载/vectors/myfeature_4.npy\n",
      "/home/test/下载/vectors/myfeature_5.npy\n",
      "/home/test/下载/vectors/myfeature_6.npy\n",
      "/home/test/下载/vectors/myfeature_7.npy\n",
      "/home/test/下载/vectors/myfeature_8.npy\n"
     ]
    }
   ],
   "source": [
    "def readData():\n",
    "    dataAll = []\n",
    "    for i in range(9):\n",
    "        url = \"/home/test/下载/vectors/myfeature_\" + str(i) +\".npy\"\n",
    "        print(url)\n",
    "        imgData=np.load('/home/test/下载/vectors/myfeature_0.npy',encoding = \"latin1\")  #加载文件\n",
    "        dataAll.append(list(imgData))\n",
    "    return dataAll\n",
    "res = readData()    "
   ]
  },
  {
   "cell_type": "code",
   "execution_count": 131,
   "metadata": {},
   "outputs": [
    {
     "name": "stdout",
     "output_type": "stream",
     "text": [
      "30000 30000 30000\n"
     ]
    }
   ],
   "source": [
    "img_data = res[0] + res[1] + res[2]\n",
    "label_data  = res[3] + res[4] + res[5]\n",
    "recom_data = res[6] + res[7] + res[8]\n",
    "print(len(img_data),len(label_data),len(recom_data))"
   ]
  },
  {
   "cell_type": "code",
   "execution_count": 136,
   "metadata": {
    "scrolled": true
   },
   "outputs": [
    {
     "name": "stdout",
     "output_type": "stream",
     "text": [
      "30000\n"
     ]
    }
   ],
   "source": [
    "actions = []\n",
    "s=time.time()\n",
    "for i in range(30000):\n",
    "    action = {\n",
    "        \"_index\":\"test_vector\",\n",
    "        \"_type\":\"_doc\",\n",
    "        \"_source\":{\n",
    "            \"label_vector\":label_data[i].tolist(),\n",
    "            \"image_vector\":img_data[i].tolist(),\n",
    "            \"recom_vector\":recom_data[i].tolist(),\n",
    "            \"status\":\"published\"\n",
    "        }\n",
    "    }\n",
    "    actions.append(action)\n",
    "print(len(actions))\n",
    "a = helpers.bulk(es,actions)\n",
    "# e = time.time()"
   ]
  },
  {
   "cell_type": "code",
   "execution_count": null,
   "metadata": {},
   "outputs": [],
   "source": [
    "start = time.time()\n",
    "for i in range(2000000):\n",
    "    test1=np.random.uniform(-1,1,size=32).tolist()\n",
    "    test2=np.random.uniform(-1,1,size=32).tolist()\n",
    "    test3=np.random.uniform(-1,1,size=32).tolist()\n",
    "    bodys = {\n",
    "        \"image_vector\":test1,\n",
    "        \"recom_vector\":test2,\n",
    "        \"label_vector\":test3,\n",
    "        \"status\":\"published\"\n",
    "    }\n",
    "    est = es.index(index=\"test_lp\",doc_type=\"_doc\",body=bodys)\n",
    "print('写完了',time.time()-start)"
   ]
  },
  {
   "cell_type": "code",
   "execution_count": 159,
   "metadata": {},
   "outputs": [
    {
     "name": "stdout",
     "output_type": "stream",
     "text": [
      "[1, 1, 1, 1, 1, 1, 1, 1, 1, 1, 1, 1, 1, 1, 1, 1, 1, 1, 1, 1, 1, 1, 1, 1, 1, 1, 1, 1, 1, 1, 1, 1]\n"
     ]
    }
   ],
   "source": [
    "x = [1 for i in range(32)]\n",
    "print(x)"
   ]
  },
  {
   "cell_type": "code",
   "execution_count": 163,
   "metadata": {
    "scrolled": true
   },
   "outputs": [
    {
     "name": "stdout",
     "output_type": "stream",
     "text": [
      "[0.19079836293547903, -0.5584705331471804, -0.643141124678263, -0.9149045345495816, -0.26212321020522933, -0.5749009705402328, -0.22479785595771662, 0.963007977842675, 0.09335752122879004, 0.42026909765474074, 0.1777296462112654, 0.9402159197403368, -0.008646319722716012, -0.9794435285195517, -0.9208209371405838, -0.761204874236715, 0.5803233936983783, 0.9105254999459811, -0.06280966549736777, 0.45202716014365074, 0.957291310502407, -0.8054621745877906, 0.48737309808780127, 0.1864628542143587, -0.4578361636332542, 0.3576410092567732, 0.8131301209918016, -0.7783249240662264, -0.8226432362917051, -0.8262774582662247, -0.8231462102073233, 0.10914760298669646]\n"
     ]
    }
   ],
   "source": [
    "# test = img_data[0].tolist()\n",
    "test=np.random.uniform(-1,1,size=32).tolist()\n",
    "print(test)"
   ]
  },
  {
   "cell_type": "code",
   "execution_count": 161,
   "metadata": {},
   "outputs": [],
   "source": [
    "test_body = {\n",
    "    \"size\":10,\n",
    "    \"query\": {\n",
    "        \"script_score\": {\n",
    "            \"query\": {\n",
    "                \"bool\": {\n",
    "                    \"filter\": {\n",
    "                        \"term\": {\n",
    "                            \"status\": \"published\"\n",
    "                        }\n",
    "                    }\n",
    "                }\n",
    "            },\n",
    "            \"script\": {\n",
    "                \"source\": \"1 / (1 + l2norm(params.queryVector, doc['image_vector']))\",\n",
    "                \"params\": {\n",
    "                    \"queryVector\": test\n",
    "                }\n",
    "            }\n",
    "        }\n",
    "    }\n",
    "}\n",
    "data = es.search(index=\"test_vector\",body=test_body)"
   ]
  },
  {
   "cell_type": "code",
   "execution_count": 162,
   "metadata": {},
   "outputs": [
    {
     "name": "stdout",
     "output_type": "stream",
     "text": [
      "{'label_vector': [0.12495578825473785, 0.18021655082702637, -0.40119728446006775, 0.026798157021403313, 0.16425609588623047, -0.04214135557413101, -0.055218592286109924, -0.2023204118013382, 0.03272172063589096, 0.5406187176704407, 0.15762780606746674, -0.3108941316604614, -0.136821910738945, -0.3501245379447937, -0.12882931530475616, -0.4889468848705292, -0.29470717906951904, 0.24864548444747925, -0.18955744802951813, 0.09597384929656982, 0.07167097181081772, 0.2703656852245331, 0.09742337465286255, 0.4692767858505249, -0.08252671360969543, 0.05014169216156006, -0.3841765224933624, 0.3675885498523712, -0.6570165157318115, 0.11452966928482056, 0.00022129714488983154, -0.05986358970403671], 'image_vector': [0.12495578825473785, 0.18021655082702637, -0.40119728446006775, 0.026798157021403313, 0.16425609588623047, -0.04214135557413101, -0.055218592286109924, -0.2023204118013382, 0.03272172063589096, 0.5406187176704407, 0.15762780606746674, -0.3108941316604614, -0.136821910738945, -0.3501245379447937, -0.12882931530475616, -0.4889468848705292, -0.29470717906951904, 0.24864548444747925, -0.18955744802951813, 0.09597384929656982, 0.07167097181081772, 0.2703656852245331, 0.09742337465286255, 0.4692767858505249, -0.08252671360969543, 0.05014169216156006, -0.3841765224933624, 0.3675885498523712, -0.6570165157318115, 0.11452966928482056, 0.00022129714488983154, -0.05986358970403671], 'recom_vector': [0.12495578825473785, 0.18021655082702637, -0.40119728446006775, 0.026798157021403313, 0.16425609588623047, -0.04214135557413101, -0.055218592286109924, -0.2023204118013382, 0.03272172063589096, 0.5406187176704407, 0.15762780606746674, -0.3108941316604614, -0.136821910738945, -0.3501245379447937, -0.12882931530475616, -0.4889468848705292, -0.29470717906951904, 0.24864548444747925, -0.18955744802951813, 0.09597384929656982, 0.07167097181081772, 0.2703656852245331, 0.09742337465286255, 0.4692767858505249, -0.08252671360969543, 0.05014169216156006, -0.3841765224933624, 0.3675885498523712, -0.6570165157318115, 0.11452966928482056, 0.00022129714488983154, -0.05986358970403671], 'status': 'published'}\n"
     ]
    }
   ],
   "source": [
    "print(data[\"hits\"][\"hits\"][0]['_source'])"
   ]
  },
  {
   "cell_type": "code",
   "execution_count": 95,
   "metadata": {
    "scrolled": true
   },
   "outputs": [
    {
     "name": "stdout",
     "output_type": "stream",
     "text": [
      "数据 <class 'list'>\n"
     ]
    }
   ],
   "source": [
    "print('数据',type(list(img_data)))"
   ]
  },
  {
   "cell_type": "code",
   "execution_count": 169,
   "metadata": {},
   "outputs": [],
   "source": [
    "test=np.random.uniform(-1,1,size=32).tolist()\n",
    "index_name = [\"label_vector\", \"image_vector\", \"recom_vector\"]\n",
    "results = []\n",
    "for index in index_name:\n",
    "    body = {\n",
    "        \"size\": 2,\n",
    "        \"query\": {\n",
    "            \"script_score\": {\n",
    "                \"query\": {\n",
    "                    \"bool\": {\n",
    "                        \"filter\": {\n",
    "                            \"term\": {\n",
    "                                \"status\": \"published\"\n",
    "                            }\n",
    "                        }\n",
    "                    }\n",
    "                },\n",
    "                \"script\": {\n",
    "           \"source\": \"1 / (1 + l2norm(params.queryVector, doc[\\'\" + index + \"\\']))\",\n",
    "                    \"params\": {\n",
    "                        \"queryVector\": test\n",
    "                    }\n",
    "                }\n",
    "            }\n",
    "        },\n",
    "        \"_source\": [index]\n",
    "    }\n",
    "    s = es.search(index=\"test_vector\", body=body)\n",
    "    results.append(s)"
   ]
  },
  {
   "cell_type": "code",
   "execution_count": 173,
   "metadata": {
    "scrolled": true
   },
   "outputs": [
    {
     "name": "stdout",
     "output_type": "stream",
     "text": [
      "[{'took': 642, 'timed_out': False, '_shards': {'total': 1, 'successful': 1, 'skipped': 0, 'failed': 0}, 'hits': {'total': {'value': 10000, 'relation': 'gte'}, 'max_score': 0.27150494, 'hits': [{'_index': 'test_vector', '_type': '_doc', '_id': '-Ff5_m4Bay-B9ZH4-mnB', '_score': 0.27150494, '_source': {'label_vector': [0.9691442187477519, -0.5514106618552823, 0.14575461148947144, -0.19970886030084234, 0.4682247674514908, 0.5692465322095646, -0.9398775694595072, -0.46027966388656205, -0.21681522842765233, 0.05992512168794217, 0.8997415294720443, 0.23648068137643885, 0.5124160309002026, 0.17069550828793023, -0.5093112429002724, 0.7447736467081862, 0.7852215785880707, -0.20034193537570166, 0.43025045082189384, 0.13896286857766227, 0.5619591319400548, 0.7344021075075082, -0.08442766796732393, -0.5820656288740576, 0.302971671955911, 0.02447990695773461, -0.9059541873011241, 0.0059700352902456455, -0.7161809113495785, -0.5452386516305896, -0.1727644814836844, -0.5859712124488878]}}, {'_index': 'test_vector', '_type': '_doc', '_id': '2GPEAG8Bay-B9ZH4cQ52', '_score': 0.27150398, '_source': {'label_vector': [0.41462570403104193, -0.6996013613993779, 0.2230276207036186, -0.4812874945575516, 0.5616856980402327, 0.8355925570195557, -0.29554809948652494, -0.9073412305571271, 0.6254399442107901, 0.49014548082819887, 0.7251405177034294, 0.42844086726543873, 0.6618720347216214, 0.5815991264263316, 0.05434943020253158, 0.6619134564588118, 0.2689319346499901, 0.06029297306925163, 0.3297715415124578, 0.7179070490498869, -0.5613500753084719, 0.8896333733756436, -0.17469472605348657, 0.7699525294781024, -0.011180994489392804, -0.9594239127701609, -0.003024911737614655, 0.09575806232876838, -0.6077803044888141, -0.5673373281428151, 0.5305370679599815, 0.3701009278402727]}}]}}, {'took': 157, 'timed_out': False, '_shards': {'total': 1, 'successful': 1, 'skipped': 0, 'failed': 0}, 'hits': {'total': {'value': 10000, 'relation': 'gte'}, 'max_score': 0.2819878, 'hits': [{'_index': 'test_vector', '_type': '_doc', '_id': '91f__m4Bay-B9ZH4_pQK', '_score': 0.2819878, '_source': {'image_vector': [0.18054465806954068, -0.23352069022132804, 0.044936200498886913, -0.3423314852132193, 0.8369111887706431, 0.2852184423334827, -0.7388382516598868, -0.8822779092553295, 0.4772385593645656, -0.0653456248903983, 0.38778116429799003, 0.8207964383772768, 0.007279492066938786, 0.11219022209547713, -0.06942977146753648, 0.529707700742593, 0.4922744369754519, 0.4466545755570559, 0.5266103760945102, -0.18356755590831852, 0.5178187636473242, 0.3720218488542908, 0.4575900757537086, 0.7600400929766344, -0.7110401248928961, 0.44571590687660345, -0.48448684399649156, -0.99309900258381, -0.4609082526363373, -0.6790695827559441, 0.2780523249083937, 0.18781704439021674]}}, {'_index': 'test_vector', '_type': '_doc', '_id': 'IVp2_24Bay-B9ZH406PC', '_score': 0.2812909, '_source': {'image_vector': [0.4098734088501803, -0.05610087487460724, -0.3126826516650312, 0.24717392791162562, 0.7609288461316717, 0.6937502305966381, -0.282415130122859, -0.6111102210851371, 0.23830537622640957, 0.5095389565779622, 0.6659699957043259, 0.6698828474288243, 0.531274700748865, -0.10099652288131056, -0.6281510483842725, -0.4360349865987485, 0.18790336223240534, 0.23844973967501404, 0.6087699554287567, 0.7153038597552395, -0.21692472263547224, 0.6814919801753567, 0.4470310725348423, 0.8522937496147542, -0.3163383137822735, -0.0008770202271493055, -0.28928094449857644, -0.11829801600148859, -0.588404789361815, -0.44475529651753876, -0.0413027304546385, 0.46888856195582695]}}]}}, {'took': 107, 'timed_out': False, '_shards': {'total': 1, 'successful': 1, 'skipped': 0, 'failed': 0}, 'hits': {'total': {'value': 10000, 'relation': 'gte'}, 'max_score': 0.2873254, 'hits': [{'_index': 'test_vector', '_type': '_doc', '_id': 'K2F8AG8Bay-B9ZH4wDde', '_score': 0.2873254, '_source': {'recom_vector': [0.9538505552561756, -0.4653656526008991, -0.09628201504662859, 0.5999372691733682, 0.8901300420243063, 0.21019194159359822, -0.7164442948115028, -0.29936349705823195, 0.7292796254742953, -0.13943428291191462, 0.11831421460263614, 0.9258860025989284, 0.644221417881292, 0.6393697748907996, 0.2839008318336922, 0.8478410914598586, 0.17067542654829948, 0.1532032610806775, -0.07674173219820513, -0.15968981713605612, 0.8008563270851194, 0.14867493067605309, -0.3679105298043246, 0.7959143902406363, -0.3015113928733646, -0.26602393906154753, -0.2895520891771173, -0.32927353691561434, -0.944644241977256, -0.8856329338381252, -0.3850790447403367, -0.9992280452012192]}}, {'_index': 'test_vector', '_type': '_doc', '_id': 'B1bO_m4Bay-B9ZH4TUuO', '_score': 0.28160232, '_source': {'recom_vector': [-0.11098387941801025, -0.8124847092453222, -0.2748749078658719, -0.059458381810870264, 0.5593971031446532, 0.7330991969205425, -0.6166145545803712, -0.31199315142762374, 0.9404171662876475, 0.7391095685218068, 0.30365654702467415, 0.744349963374275, 0.376884705712786, 0.6254956183484237, -0.6515929385303776, -0.14830563531684726, 0.9723194564582842, -0.32781950361537926, -0.09404761784976223, 0.93576685891591, 0.08036520891363641, 0.5545869029586354, 0.16429002049660935, 0.8245024035841284, -0.34797845252825477, -0.1684554246419443, -0.3813297101134179, 0.20407407757636187, -0.9762997745371373, -0.9753701821126259, 0.2920471093929522, 0.007415916990074489]}}]}}]\n"
     ]
    }
   ],
   "source": [
    "print(results)"
   ]
  },
  {
   "cell_type": "code",
   "execution_count": 76,
   "metadata": {},
   "outputs": [],
   "source": [
    "data = es.search(index=\"test\",body={\n",
    "    \"query\":{\n",
    "        \"match_all\":{}\n",
    "    }\n",
    "})"
   ]
  },
  {
   "cell_type": "code",
   "execution_count": 77,
   "metadata": {},
   "outputs": [
    {
     "name": "stdout",
     "output_type": "stream",
     "text": [
      "{'took': 3, 'timed_out': False, '_shards': {'total': 1, 'successful': 1, 'skipped': 0, 'failed': 0}, 'hits': {'total': {'value': 0, 'relation': 'eq'}, 'max_score': None, 'hits': []}}\n"
     ]
    }
   ],
   "source": [
    "print(data)"
   ]
  },
  {
   "cell_type": "code",
   "execution_count": 19,
   "metadata": {},
   "outputs": [
    {
     "name": "stdout",
     "output_type": "stream",
     "text": [
      "{'test': {'mappings': {'dynamic': 'strict', 'properties': {'image_vector': {'type': 'dense_vector', 'dims': 32}, 'label_vector': {'type': 'dense_vector', 'dims': 32}, 'recom_vector': {'type': 'dense_vector', 'dims': 32}}}}}\n"
     ]
    }
   ],
   "source": [
    "url = \"http://192.168.2.104:9200/test/_mapping/\"\n",
    "r = requests.get(url)\n",
    "data  = r.json()\n",
    "print(data)"
   ]
  },
  {
   "cell_type": "code",
   "execution_count": 192,
   "metadata": {},
   "outputs": [
    {
     "name": "stdout",
     "output_type": "stream",
     "text": [
      "{'mappings': {'properties': {'image_vector': {'type': 'dense_vector', 'dims': 32}, 'label_vector': {'type': 'dense_vector', 'dims': 32}, 'recom_vector': {'type': 'dense_vector', 'dims': 32}, 'status': {'type': 'keyword'}}}}\n"
     ]
    }
   ],
   "source": [
    "test_body ={\n",
    "    \"mappings\":{\n",
    "        \"properties\":{\n",
    "            \"image_vector\":{\n",
    "                \"type\":\"dense_vector\",\n",
    "                \"dims\":32\n",
    "            },\n",
    "            \"label_vector\":{\n",
    "                \"type\":\"dense_vector\",\n",
    "                \"dims\":32\n",
    "            },\n",
    "            \"recom_vector\":{\n",
    "                \"type\":\"dense_vector\",\n",
    "                \"dims\":32\n",
    "            },\n",
    "            \"status\":{\n",
    "                \"type\":\"keyword\"\n",
    "            }\n",
    "        }\n",
    "    }\n",
    "}\n",
    "print(test_body)"
   ]
  },
  {
   "cell_type": "code",
   "execution_count": 193,
   "metadata": {},
   "outputs": [],
   "source": [
    "#建表\n",
    "res = es.indices.create(index=\"test_lp\",body=test_body)"
   ]
  },
  {
   "cell_type": "code",
   "execution_count": null,
   "metadata": {},
   "outputs": [],
   "source": [
    "#增\n",
    "res = es.index(index=\"test_lp\",doc_type=\"_doc\",body=body)\n",
    "#删\n",
    "res = es.delete(index='indexName', doc_type='typeName', id='idValue')\n",
    "#查\n",
    "res = es.get(index='indexName', doc_type='typeName', id='idValue')\n",
    "#改\n",
    "res  =es.update(index='indexName', doc_type='typeName', id='idValue', body={待更新字段})"
   ]
  }
 ],
 "metadata": {
  "kernelspec": {
   "display_name": "Python 3",
   "language": "python",
   "name": "python3"
  },
  "language_info": {
   "codemirror_mode": {
    "name": "ipython",
    "version": 3
   },
   "file_extension": ".py",
   "mimetype": "text/x-python",
   "name": "python",
   "nbconvert_exporter": "python",
   "pygments_lexer": "ipython3",
   "version": "3.7.4"
  }
 },
 "nbformat": 4,
 "nbformat_minor": 2
}
