{
 "cells": [
  {
   "cell_type": "code",
   "execution_count": 3,
   "metadata": {},
   "outputs": [],
   "source": [
    "vector ='8/kiQGXrq79DFdBAENoRQU7bukB+y6PAGNcbQFAwqkAO/MO/MK52QNU4gEDszrzAjp9CQCk2nMAiZ09AlPbkv07WCsH/gPLAcmcvP7FfAr+Rp8S/iE0SQXOTMkAHvoq8VQcrwHkDHMGXEizAbDkZwHgAScCcY7vAPceGQGrfF8E8/QTBy3GxQIH6D0ET15E/psA0QHBAAUHyTcBANyFGQVxQJkGc8rBATpGewIRQ2cCiSktATBrsQKF8EkActdPAgngnwbJlHcFHduS/YNmrvsuCDsHPuVLAxlHXwKCkBcBDxhLB0zjFwLwaJkAabE3ARCGlQFC4ncAKIWXA/UZnvg=='\n"
   ]
  },
  {
   "cell_type": "code",
   "execution_count": 9,
   "metadata": {},
   "outputs": [],
   "source": [
    "import base64\n",
    "import numpy as np"
   ]
  },
  {
   "cell_type": "code",
   "execution_count": 10,
   "metadata": {},
   "outputs": [],
   "source": [
    "result = base64.b64decode(vector)"
   ]
  },
  {
   "cell_type": "code",
   "execution_count": 11,
   "metadata": {},
   "outputs": [
    {
     "data": {
      "text/plain": [
       "b'\\xf3\\xf9\"@e\\xeb\\xab\\xbfC\\x15\\xd0@\\x10\\xda\\x11AN\\xdb\\xba@~\\xcb\\xa3\\xc0\\x18\\xd7\\x1b@P0\\xaa@\\x0e\\xfc\\xc3\\xbf0\\xaev@\\xd58\\x80@\\xec\\xce\\xbc\\xc0\\x8e\\x9fB@)6\\x9c\\xc0\"gO@\\x94\\xf6\\xe4\\xbfN\\xd6\\n\\xc1\\xff\\x80\\xf2\\xc0rg/?\\xb1_\\x02\\xbf\\x91\\xa7\\xc4\\xbf\\x88M\\x12As\\x932@\\x07\\xbe\\x8a\\xbcU\\x07+\\xc0y\\x03\\x1c\\xc1\\x97\\x12,\\xc0l9\\x19\\xc0x\\x00I\\xc0\\x9cc\\xbb\\xc0=\\xc7\\x86@j\\xdf\\x17\\xc1<\\xfd\\x04\\xc1\\xcbq\\xb1@\\x81\\xfa\\x0fA\\x13\\xd7\\x91?\\xa6\\xc04@p@\\x01A\\xf2M\\xc0@7!FA\\\\P&A\\x9c\\xf2\\xb0@N\\x91\\x9e\\xc0\\x84P\\xd9\\xc0\\xa2JK@L\\x1a\\xec@\\xa1|\\x12@\\x1c\\xb5\\xd3\\xc0\\x82x\\'\\xc1\\xb2e\\x1d\\xc1Gv\\xe4\\xbf`\\xd9\\xab\\xbe\\xcb\\x82\\x0e\\xc1\\xcf\\xb9R\\xc0\\xc6Q\\xd7\\xc0\\xa0\\xa4\\x05\\xc0C\\xc6\\x12\\xc1\\xd38\\xc5\\xc0\\xbc\\x1a&@\\x1alM\\xc0D!\\xa5@P\\xb8\\x9d\\xc0\\n!e\\xc0\\xfdFg\\xbe'"
      ]
     },
     "execution_count": 11,
     "metadata": {},
     "output_type": "execute_result"
    }
   ],
   "source": [
    "result"
   ]
  },
  {
   "cell_type": "code",
   "execution_count": 14,
   "metadata": {},
   "outputs": [
    {
     "name": "stdout",
     "output_type": "stream",
     "text": [
      "<class 'bytes'>\n"
     ]
    }
   ],
   "source": [
    "print(type(result))"
   ]
  },
  {
   "cell_type": "code",
   "execution_count": 12,
   "metadata": {},
   "outputs": [],
   "source": [
    "feature = np.frombuffer(result, dtype=np.float32)"
   ]
  },
  {
   "cell_type": "code",
   "execution_count": 13,
   "metadata": {},
   "outputs": [
    {
     "data": {
      "text/plain": [
       "array([  2.5465057 ,  -1.3431212 ,   6.5025954 ,   9.115738  ,\n",
       "         5.8392706 ,  -5.1185904 ,   2.4350033 ,   5.3183975 ,\n",
       "        -1.5311296 ,   3.8543816 ,   4.0069375 ,  -5.900259  ,\n",
       "         3.0409884 ,  -4.8816113 ,   3.2406697 ,  -1.788775  ,\n",
       "        -8.6773205 ,  -7.5782466 ,   0.6851722 ,  -0.50927263,\n",
       "        -1.5363637 ,   9.143929  ,   2.7902496 ,  -0.01693632,\n",
       "        -2.6723225 ,  -9.750848  ,  -2.6886346 ,  -2.3941298 ,\n",
       "        -3.1406536 ,  -5.8559093 ,   4.211821  ,  -9.492044  ,\n",
       "        -8.311825  ,   5.5451407 ,   8.998658  ,   1.139376  ,\n",
       "         2.8242583 ,   8.078232  ,   6.009515  ,  12.383109  ,\n",
       "        10.394619  ,   5.5296154 ,  -4.9552374 ,  -6.7910786 ,\n",
       "         3.1764302 ,   7.37821   ,   2.2888567 ,  -6.615858  ,\n",
       "       -10.466921  ,  -9.837328  ,  -1.7848595 ,  -0.3356428 ,\n",
       "        -8.906932  ,  -3.2925909 ,  -6.728732  ,  -2.088173  ,\n",
       "        -9.173404  ,  -6.1631866 ,   2.5953817 ,  -3.209723  ,\n",
       "         5.1603107 ,  -4.928749  ,  -3.5801415 ,  -0.22585674],\n",
       "      dtype=float32)"
      ]
     },
     "execution_count": 13,
     "metadata": {},
     "output_type": "execute_result"
    }
   ],
   "source": [
    "feature"
   ]
  },
  {
   "cell_type": "code",
   "execution_count": null,
   "metadata": {},
   "outputs": [],
   "source": []
  },
  {
   "cell_type": "code",
   "execution_count": 32,
   "metadata": {},
   "outputs": [
    {
     "name": "stdout",
     "output_type": "stream",
     "text": [
      "b'8/kiQGXrq79DFdBAENoRQU7bukB+y6PAGNcbQFAwqkAO/MO/MK52QNU4gEDszrzAjp9CQCk2nMAiZ09AlPbkv07WCsH/gPLAcmcvP7FfAr+Rp8S/iE0SQXOTMkAHvoq8VQcrwHkDHMGXEizAbDkZwHgAScCcY7vAPceGQGrfF8E8/QTBy3GxQIH6D0ET15E/psA0QHBAAUHyTcBANyFGQVxQJkGc8rBATpGewIRQ2cCiSktATBrsQKF8EkActdPAgngnwbJlHcFHduS/YNmrvsuCDsHPuVLAxlHXwKCkBcBDxhLB0zjFwLwaJkAabE3ARCGlQFC4ncAKIWXA/UZnvg=='\n"
     ]
    }
   ],
   "source": [
    "test = 'lplplp'\n",
    "a = base64.b64encode(feature)\n",
    "print(a)"
   ]
  },
  {
   "cell_type": "code",
   "execution_count": 33,
   "metadata": {},
   "outputs": [
    {
     "data": {
      "text/plain": [
       "bytes"
      ]
     },
     "execution_count": 33,
     "metadata": {},
     "output_type": "execute_result"
    }
   ],
   "source": [
    "type(a)"
   ]
  },
  {
   "cell_type": "code",
   "execution_count": 23,
   "metadata": {},
   "outputs": [
    {
     "data": {
      "text/plain": [
       "b'WyAgMi41NDY1MDU3ICAgLTEuMzQzMTIxMiAgICA2LjUwMjU5NTQgICAgOS4xMTU3MzggICAgIDUuODM5MjcwNgogIC01LjExODU5MDQgICAgMi40MzUwMDMzICAgIDUuMzE4Mzk3NSAgIC0xLjUzMTEyOTYgICAgMy44NTQzODE2CiAgIDQuMDA2OTM3NSAgIC01LjkwMDI1OSAgICAgMy4wNDA5ODg0ICAgLTQuODgxNjExMyAgICAzLjI0MDY2OTcKICAtMS43ODg3NzUgICAgLTguNjc3MzIwNSAgIC03LjU3ODI0NjYgICAgMC42ODUxNzIyICAgLTAuNTA5MjcyNjMKICAtMS41MzYzNjM3ICAgIDkuMTQzOTI5ICAgICAyLjc5MDI0OTYgICAtMC4wMTY5MzYzMiAgLTIuNjcyMzIyNQogIC05Ljc1MDg0OCAgICAtMi42ODg2MzQ2ICAgLTIuMzk0MTI5OCAgIC0zLjE0MDY1MzYgICAtNS44NTU5MDkzCiAgIDQuMjExODIxICAgIC05LjQ5MjA0NCAgICAtOC4zMTE4MjUgICAgIDUuNTQ1MTQwNyAgICA4Ljk5ODY1OAogICAxLjEzOTM3NiAgICAgMi44MjQyNTgzICAgIDguMDc4MjMyICAgICA2LjAwOTUxNSAgICAxMi4zODMxMDkKICAxMC4zOTQ2MTkgICAgIDUuNTI5NjE1NCAgIC00Ljk1NTIzNzQgICAtNi43OTEwNzg2ICAgIDMuMTc2NDMwMgogICA3LjM3ODIxICAgICAgMi4yODg4NTY3ICAgLTYuNjE1ODU4ICAgLTEwLjQ2NjkyMSAgICAtOS44MzczMjgKICAtMS43ODQ4NTk1ICAgLTAuMzM1NjQyOCAgIC04LjkwNjkzMiAgICAtMy4yOTI1OTA5ICAgLTYuNzI4NzMyCiAgLTIuMDg4MTczICAgIC05LjE3MzQwNCAgICAtNi4xNjMxODY2ICAgIDIuNTk1MzgxNyAgIC0zLjIwOTcyMwogICA1LjE2MDMxMDcgICAtNC45Mjg3NDkgICAgLTMuNTgwMTQxNSAgIC0wLjIyNTg1Njc0XQ=='"
      ]
     },
     "execution_count": 23,
     "metadata": {},
     "output_type": "execute_result"
    }
   ],
   "source": [
    "b"
   ]
  },
  {
   "cell_type": "code",
   "execution_count": 30,
   "metadata": {},
   "outputs": [],
   "source": [
    "c = base64.b64encode(str(feature).encode('utf-8'))"
   ]
  },
  {
   "cell_type": "code",
   "execution_count": 31,
   "metadata": {},
   "outputs": [
    {
     "data": {
      "text/plain": [
       "b'WyAgMi41NDY1MDU3ICAgLTEuMzQzMTIxMiAgICA2LjUwMjU5NTQgICAgOS4xMTU3MzggICAgIDUuODM5MjcwNgogIC01LjExODU5MDQgICAgMi40MzUwMDMzICAgIDUuMzE4Mzk3NSAgIC0xLjUzMTEyOTYgICAgMy44NTQzODE2CiAgIDQuMDA2OTM3NSAgIC01LjkwMDI1OSAgICAgMy4wNDA5ODg0ICAgLTQuODgxNjExMyAgICAzLjI0MDY2OTcKICAtMS43ODg3NzUgICAgLTguNjc3MzIwNSAgIC03LjU3ODI0NjYgICAgMC42ODUxNzIyICAgLTAuNTA5MjcyNjMKICAtMS41MzYzNjM3ICAgIDkuMTQzOTI5ICAgICAyLjc5MDI0OTYgICAtMC4wMTY5MzYzMiAgLTIuNjcyMzIyNQogIC05Ljc1MDg0OCAgICAtMi42ODg2MzQ2ICAgLTIuMzk0MTI5OCAgIC0zLjE0MDY1MzYgICAtNS44NTU5MDkzCiAgIDQuMjExODIxICAgIC05LjQ5MjA0NCAgICAtOC4zMTE4MjUgICAgIDUuNTQ1MTQwNyAgICA4Ljk5ODY1OAogICAxLjEzOTM3NiAgICAgMi44MjQyNTgzICAgIDguMDc4MjMyICAgICA2LjAwOTUxNSAgICAxMi4zODMxMDkKICAxMC4zOTQ2MTkgICAgIDUuNTI5NjE1NCAgIC00Ljk1NTIzNzQgICAtNi43OTEwNzg2ICAgIDMuMTc2NDMwMgogICA3LjM3ODIxICAgICAgMi4yODg4NTY3ICAgLTYuNjE1ODU4ICAgLTEwLjQ2NjkyMSAgICAtOS44MzczMjgKICAtMS43ODQ4NTk1ICAgLTAuMzM1NjQyOCAgIC04LjkwNjkzMiAgICAtMy4yOTI1OTA5ICAgLTYuNzI4NzMyCiAgLTIuMDg4MTczICAgIC05LjE3MzQwNCAgICAtNi4xNjMxODY2ICAgIDIuNTk1MzgxNyAgIC0zLjIwOTcyMwogICA1LjE2MDMxMDcgICAtNC45Mjg3NDkgICAgLTMuNTgwMTQxNSAgIC0wLjIyNTg1Njc0XQ=='"
      ]
     },
     "execution_count": 31,
     "metadata": {},
     "output_type": "execute_result"
    }
   ],
   "source": [
    "c"
   ]
  },
  {
   "cell_type": "code",
   "execution_count": 37,
   "metadata": {},
   "outputs": [],
   "source": [
    "d=str(c)"
   ]
  },
  {
   "cell_type": "code",
   "execution_count": 39,
   "metadata": {},
   "outputs": [
    {
     "data": {
      "text/plain": [
       "str"
      ]
     },
     "execution_count": 39,
     "metadata": {},
     "output_type": "execute_result"
    }
   ],
   "source": [
    "type(d)"
   ]
  },
  {
   "cell_type": "code",
   "execution_count": 40,
   "metadata": {},
   "outputs": [],
   "source": [
    "import random\n",
    "list1 = ['佛山', '南宁', '北海', '杭州', '南昌', '厦门', '温州']\n",
    "bb = random.sample(list1, 3) \n"
   ]
  },
  {
   "cell_type": "code",
   "execution_count": 41,
   "metadata": {},
   "outputs": [
    {
     "data": {
      "text/plain": [
       "['南昌', '南宁', '北海']"
      ]
     },
     "execution_count": 41,
     "metadata": {},
     "output_type": "execute_result"
    }
   ],
   "source": [
    "bb"
   ]
  },
  {
   "cell_type": "code",
   "execution_count": null,
   "metadata": {},
   "outputs": [],
   "source": []
  }
 ],
 "metadata": {
  "kernelspec": {
   "display_name": "Python 3",
   "language": "python",
   "name": "python3"
  },
  "language_info": {
   "codemirror_mode": {
    "name": "ipython",
    "version": 3
   },
   "file_extension": ".py",
   "mimetype": "text/x-python",
   "name": "python",
   "nbconvert_exporter": "python",
   "pygments_lexer": "ipython3",
   "version": "3.7.4"
  }
 },
 "nbformat": 4,
 "nbformat_minor": 2
}
